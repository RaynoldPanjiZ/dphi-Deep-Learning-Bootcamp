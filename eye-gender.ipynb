{
 "cells": [
  {
   "cell_type": "code",
   "execution_count": 1,
   "id": "3a4b3681",
   "metadata": {
    "execution": {
     "iopub.execute_input": "2022-11-06T15:58:05.234031Z",
     "iopub.status.busy": "2022-11-06T15:58:05.232877Z",
     "iopub.status.idle": "2022-11-06T15:58:10.866550Z",
     "shell.execute_reply": "2022-11-06T15:58:10.865528Z"
    },
    "papermill": {
     "duration": 5.647841,
     "end_time": "2022-11-06T15:58:10.869690",
     "exception": false,
     "start_time": "2022-11-06T15:58:05.221849",
     "status": "completed"
    },
    "tags": []
   },
   "outputs": [
    {
     "name": "stdout",
     "output_type": "stream",
     "text": [
      "2.6.4\n"
     ]
    }
   ],
   "source": [
    "## import tensorflow lib\n",
    "import tensorflow as tf\n",
    "# assert tf.__version__.startswith('2')\n",
    "print(tf.__version__)"
   ]
  },
  {
   "cell_type": "code",
   "execution_count": 2,
   "id": "137cec22",
   "metadata": {
    "execution": {
     "iopub.execute_input": "2022-11-06T15:58:10.895915Z",
     "iopub.status.busy": "2022-11-06T15:58:10.895020Z",
     "iopub.status.idle": "2022-11-06T15:58:14.773510Z",
     "shell.execute_reply": "2022-11-06T15:58:14.771751Z"
    },
    "papermill": {
     "duration": 3.894544,
     "end_time": "2022-11-06T15:58:14.776779",
     "exception": false,
     "start_time": "2022-11-06T15:58:10.882235",
     "status": "completed"
    },
    "tags": []
   },
   "outputs": [
    {
     "name": "stdout",
     "output_type": "stream",
     "text": [
      "Found GPU at: /device:GPU:0\n"
     ]
    },
    {
     "name": "stderr",
     "output_type": "stream",
     "text": [
      "2022-11-06 15:58:10.899865: I tensorflow/core/platform/cpu_feature_guard.cc:142] This TensorFlow binary is optimized with oneAPI Deep Neural Network Library (oneDNN) to use the following CPU instructions in performance-critical operations:  AVX2 AVX512F FMA\n",
      "To enable them in other operations, rebuild TensorFlow with the appropriate compiler flags.\n",
      "2022-11-06 15:58:11.351966: I tensorflow/stream_executor/cuda/cuda_gpu_executor.cc:937] successful NUMA node read from SysFS had negative value (-1), but there must be at least one NUMA node, so returning NUMA node zero\n",
      "2022-11-06 15:58:11.353168: I tensorflow/stream_executor/cuda/cuda_gpu_executor.cc:937] successful NUMA node read from SysFS had negative value (-1), but there must be at least one NUMA node, so returning NUMA node zero\n",
      "2022-11-06 15:58:11.490054: I tensorflow/stream_executor/cuda/cuda_gpu_executor.cc:937] successful NUMA node read from SysFS had negative value (-1), but there must be at least one NUMA node, so returning NUMA node zero\n",
      "2022-11-06 15:58:11.491015: I tensorflow/stream_executor/cuda/cuda_gpu_executor.cc:937] successful NUMA node read from SysFS had negative value (-1), but there must be at least one NUMA node, so returning NUMA node zero\n",
      "2022-11-06 15:58:11.491842: I tensorflow/stream_executor/cuda/cuda_gpu_executor.cc:937] successful NUMA node read from SysFS had negative value (-1), but there must be at least one NUMA node, so returning NUMA node zero\n",
      "2022-11-06 15:58:11.492624: I tensorflow/stream_executor/cuda/cuda_gpu_executor.cc:937] successful NUMA node read from SysFS had negative value (-1), but there must be at least one NUMA node, so returning NUMA node zero\n",
      "2022-11-06 15:58:14.757575: I tensorflow/stream_executor/cuda/cuda_gpu_executor.cc:937] successful NUMA node read from SysFS had negative value (-1), but there must be at least one NUMA node, so returning NUMA node zero\n",
      "2022-11-06 15:58:14.758502: I tensorflow/stream_executor/cuda/cuda_gpu_executor.cc:937] successful NUMA node read from SysFS had negative value (-1), but there must be at least one NUMA node, so returning NUMA node zero\n",
      "2022-11-06 15:58:14.759263: I tensorflow/stream_executor/cuda/cuda_gpu_executor.cc:937] successful NUMA node read from SysFS had negative value (-1), but there must be at least one NUMA node, so returning NUMA node zero\n",
      "2022-11-06 15:58:14.760001: I tensorflow/stream_executor/cuda/cuda_gpu_executor.cc:937] successful NUMA node read from SysFS had negative value (-1), but there must be at least one NUMA node, so returning NUMA node zero\n",
      "2022-11-06 15:58:14.760768: I tensorflow/stream_executor/cuda/cuda_gpu_executor.cc:937] successful NUMA node read from SysFS had negative value (-1), but there must be at least one NUMA node, so returning NUMA node zero\n",
      "2022-11-06 15:58:14.761485: I tensorflow/core/common_runtime/gpu/gpu_device.cc:1510] Created device /device:GPU:0 with 13789 MB memory:  -> device: 0, name: Tesla T4, pci bus id: 0000:00:04.0, compute capability: 7.5\n",
      "2022-11-06 15:58:14.765318: I tensorflow/stream_executor/cuda/cuda_gpu_executor.cc:937] successful NUMA node read from SysFS had negative value (-1), but there must be at least one NUMA node, so returning NUMA node zero\n",
      "2022-11-06 15:58:14.766060: I tensorflow/core/common_runtime/gpu/gpu_device.cc:1510] Created device /device:GPU:1 with 13789 MB memory:  -> device: 1, name: Tesla T4, pci bus id: 0000:00:05.0, compute capability: 7.5\n"
     ]
    }
   ],
   "source": [
    "## check GPU usage\n",
    "device_name = tf.test.gpu_device_name()\n",
    "if device_name != '/device:GPU:0':\n",
    "  print('GPU device not found')\n",
    "else:\n",
    "  print('Found GPU at: {}'.format(device_name))"
   ]
  },
  {
   "cell_type": "markdown",
   "id": "53e1c007",
   "metadata": {
    "papermill": {
     "duration": 0.007827,
     "end_time": "2022-11-06T15:58:14.792968",
     "exception": false,
     "start_time": "2022-11-06T15:58:14.785141",
     "status": "completed"
    },
    "tags": []
   },
   "source": [
    "# Data preparation"
   ]
  },
  {
   "cell_type": "code",
   "execution_count": 3,
   "id": "3f56d9fa",
   "metadata": {
    "_kg_hide-input": true,
    "execution": {
     "iopub.execute_input": "2022-11-06T15:58:14.810324Z",
     "iopub.status.busy": "2022-11-06T15:58:14.809735Z",
     "iopub.status.idle": "2022-11-06T15:58:20.022771Z",
     "shell.execute_reply": "2022-11-06T15:58:20.021725Z"
    },
    "papermill": {
     "duration": 5.223981,
     "end_time": "2022-11-06T15:58:20.024902",
     "exception": false,
     "start_time": "2022-11-06T15:58:14.800921",
     "status": "completed"
    },
    "tags": []
   },
   "outputs": [
    {
     "name": "stdout",
     "output_type": "stream",
     "text": [
      "/kaggle/input/eye-gender-dataset/eye_gender_data/train /kaggle/input/eye-gender-dataset/eye_gender_data/test\n",
      "\n",
      "/kaggle/input/eye-gender-dataset/eye_gender_data\t len file : 3\n",
      "/kaggle/input/eye-gender-dataset/eye_gender_data/test\t len file : 2305\n",
      "/kaggle/input/eye-gender-dataset/eye_gender_data/train\t len file : 9220\n"
     ]
    }
   ],
   "source": [
    "## check the datasets\n",
    "import os\n",
    "datasets = '/kaggle/input/eye-gender-dataset/eye_gender_data'\n",
    "train_path = os.path.join(datasets, 'train')\n",
    "test_path = os.path.join(datasets, 'test')\n",
    "print(train_path, test_path)\n",
    "print()\n",
    "\n",
    "for dirname, _, filenames in os.walk(datasets):\n",
    "    print(dirname+\"\\t len file : \"+str(len(filenames)))"
   ]
  },
  {
   "cell_type": "code",
   "execution_count": 4,
   "id": "78713b27",
   "metadata": {
    "_cell_guid": "b1076dfc-b9ad-4769-8c92-a6c4dae69d19",
    "_uuid": "8f2839f25d086af736a60e9eeb907d3b93b6e0e5",
    "execution": {
     "iopub.execute_input": "2022-11-06T15:58:20.042392Z",
     "iopub.status.busy": "2022-11-06T15:58:20.041547Z",
     "iopub.status.idle": "2022-11-06T15:58:20.046914Z",
     "shell.execute_reply": "2022-11-06T15:58:20.046060Z"
    },
    "papermill": {
     "duration": 0.016087,
     "end_time": "2022-11-06T15:58:20.048915",
     "exception": false,
     "start_time": "2022-11-06T15:58:20.032828",
     "status": "completed"
    },
    "tags": []
   },
   "outputs": [],
   "source": [
    "import numpy as np \n",
    "import pandas as pd \n",
    "import matplotlib.pyplot as plt\n",
    "\n",
    "import warnings\n",
    "warnings.simplefilter(action='ignore', category=FutureWarning)"
   ]
  },
  {
   "cell_type": "code",
   "execution_count": 5,
   "id": "f0e1dbd5",
   "metadata": {
    "execution": {
     "iopub.execute_input": "2022-11-06T15:58:20.067761Z",
     "iopub.status.busy": "2022-11-06T15:58:20.066805Z",
     "iopub.status.idle": "2022-11-06T15:58:20.117347Z",
     "shell.execute_reply": "2022-11-06T15:58:20.116065Z"
    },
    "papermill": {
     "duration": 0.062049,
     "end_time": "2022-11-06T15:58:20.120052",
     "exception": false,
     "start_time": "2022-11-06T15:58:20.058003",
     "status": "completed"
    },
    "tags": []
   },
   "outputs": [
    {
     "name": "stdout",
     "output_type": "stream",
     "text": [
      "      filename   label\n",
      "0  Image_1.jpg    male\n",
      "1  Image_2.jpg  female\n",
      "2  Image_3.jpg  female\n",
      "3  Image_4.jpg  female\n",
      "4  Image_5.jpg    male\n",
      "      filename\n",
      "0  Image_1.jpg\n",
      "1  Image_2.jpg\n",
      "2  Image_3.jpg\n",
      "3  Image_4.jpg\n",
      "4  Image_5.jpg\n"
     ]
    }
   ],
   "source": [
    "train_data = pd.read_csv(os.path.join(datasets, 'Training_set.csv'))\n",
    "test_data = pd.read_csv(os.path.join(datasets, 'Testing_set.csv'))\n",
    "\n",
    "print(train_data.head())\n",
    "print(test_data.head())"
   ]
  },
  {
   "cell_type": "code",
   "execution_count": 6,
   "id": "b165f9d2",
   "metadata": {
    "execution": {
     "iopub.execute_input": "2022-11-06T15:58:20.138875Z",
     "iopub.status.busy": "2022-11-06T15:58:20.137970Z",
     "iopub.status.idle": "2022-11-06T15:58:20.151939Z",
     "shell.execute_reply": "2022-11-06T15:58:20.150943Z"
    },
    "papermill": {
     "duration": 0.025168,
     "end_time": "2022-11-06T15:58:20.153928",
     "exception": false,
     "start_time": "2022-11-06T15:58:20.128760",
     "status": "completed"
    },
    "tags": []
   },
   "outputs": [
    {
     "data": {
      "text/plain": [
       "['male', 'female']"
      ]
     },
     "execution_count": 6,
     "metadata": {},
     "output_type": "execute_result"
    }
   ],
   "source": [
    "class_names = train_data['label'].unique().tolist()\n",
    "class_names"
   ]
  },
  {
   "cell_type": "markdown",
   "id": "d53db24d",
   "metadata": {
    "papermill": {
     "duration": 0.007737,
     "end_time": "2022-11-06T15:58:20.169714",
     "exception": false,
     "start_time": "2022-11-06T15:58:20.161977",
     "status": "completed"
    },
    "tags": []
   },
   "source": [
    "## Check random image"
   ]
  },
  {
   "cell_type": "code",
   "execution_count": 7,
   "id": "34ac9363",
   "metadata": {
    "execution": {
     "iopub.execute_input": "2022-11-06T15:58:20.186829Z",
     "iopub.status.busy": "2022-11-06T15:58:20.186006Z",
     "iopub.status.idle": "2022-11-06T15:58:20.635602Z",
     "shell.execute_reply": "2022-11-06T15:58:20.634686Z"
    },
    "papermill": {
     "duration": 0.460439,
     "end_time": "2022-11-06T15:58:20.637866",
     "exception": false,
     "start_time": "2022-11-06T15:58:20.177427",
     "status": "completed"
    },
    "tags": []
   },
   "outputs": [
    {
     "name": "stdout",
     "output_type": "stream",
     "text": [
      "Image_2.jpg\n",
      "- Number of Pixels: 10092\n",
      "- Shape/Dimensions: (58, 58, 3)\n"
     ]
    },
    {
     "data": {
      "text/plain": [
       "<matplotlib.image.AxesImage at 0x7f3757b4aa10>"
      ]
     },
     "execution_count": 7,
     "metadata": {},
     "output_type": "execute_result"
    },
    {
     "data": {
      "image/png": "[encoded data removed]",
      "text/plain": [
       "<Figure size 432x288 with 1 Axes>"
      ]
     },
     "metadata": {
      "needs_background": "light"
     },
     "output_type": "display_data"
    }
   ],
   "source": [
    "import cv2\n",
    "\n",
    "file = train_data['filename'][1]\n",
    "img = cv2.imread(os.path.join(train_path, file))\n",
    "\n",
    "print(file)\n",
    "print(\"- Number of Pixels: \" + str(img.size))\n",
    "print(\"- Shape/Dimensions: \" + str(img.shape))\n",
    "plt.imshow(img)"
   ]
  },
  {
   "cell_type": "code",
   "execution_count": 8,
   "id": "8efc70e2",
   "metadata": {
    "execution": {
     "iopub.execute_input": "2022-11-06T15:58:20.657947Z",
     "iopub.status.busy": "2022-11-06T15:58:20.657052Z",
     "iopub.status.idle": "2022-11-06T15:58:20.873846Z",
     "shell.execute_reply": "2022-11-06T15:58:20.872821Z"
    },
    "papermill": {
     "duration": 0.229033,
     "end_time": "2022-11-06T15:58:20.876218",
     "exception": false,
     "start_time": "2022-11-06T15:58:20.647185",
     "status": "completed"
    },
    "tags": []
   },
   "outputs": [
    {
     "name": "stdout",
     "output_type": "stream",
     "text": [
      "- Number of Pixels: 3364\n",
      "- Shape/Dimensions: (58, 58)\n"
     ]
    },
    {
     "data": {
      "image/png": "[encoded data removed]",
      "text/plain": [
       "<Figure size 432x288 with 1 Axes>"
      ]
     },
     "metadata": {
      "needs_background": "light"
     },
     "output_type": "display_data"
    }
   ],
   "source": [
    "## change image channel to GrayScale\n",
    "gray_img = cv2.cvtColor(img, cv2.COLOR_BGR2GRAY)\n",
    "plt.imshow(gray_img)\n",
    "print(\"- Number of Pixels: \" + str(gray_img.size))\n",
    "print(\"- Shape/Dimensions: \" + str(gray_img.shape))"
   ]
  },
  {
   "cell_type": "code",
   "execution_count": 9,
   "id": "09f70945",
   "metadata": {
    "execution": {
     "iopub.execute_input": "2022-11-06T15:58:20.897137Z",
     "iopub.status.busy": "2022-11-06T15:58:20.895601Z",
     "iopub.status.idle": "2022-11-06T15:58:21.129035Z",
     "shell.execute_reply": "2022-11-06T15:58:21.127449Z"
    },
    "papermill": {
     "duration": 0.246026,
     "end_time": "2022-11-06T15:58:21.131537",
     "exception": false,
     "start_time": "2022-11-06T15:58:20.885511",
     "status": "completed"
    },
    "tags": []
   },
   "outputs": [
    {
     "name": "stdout",
     "output_type": "stream",
     "text": [
      "- Number of Pixels: 1024\n",
      "- Shape/Dimensions: (32, 32)\n"
     ]
    },
    {
     "data": {
      "image/png": "[encoded data removed]",
      "text/plain": [
       "<Figure size 432x288 with 1 Axes>"
      ]
     },
     "metadata": {
      "needs_background": "light"
     },
     "output_type": "display_data"
    }
   ],
   "source": [
    "# reshape image \n",
    "img_re = cv2.resize(gray_img, dsize=(32, 32), interpolation=cv2.INTER_CUBIC)\n",
    "\n",
    "plt.imshow(img_re)\n",
    "print(\"- Number of Pixels: \" + str(img_re.size))\n",
    "print(\"- Shape/Dimensions: \" + str(img_re.shape))"
   ]
  },
  {
   "cell_type": "code",
   "execution_count": 10,
   "id": "a4da119c",
   "metadata": {
    "execution": {
     "iopub.execute_input": "2022-11-06T15:58:21.155284Z",
     "iopub.status.busy": "2022-11-06T15:58:21.154447Z",
     "iopub.status.idle": "2022-11-06T15:58:21.188250Z",
     "shell.execute_reply": "2022-11-06T15:58:21.186234Z"
    },
    "papermill": {
     "duration": 0.047974,
     "end_time": "2022-11-06T15:58:21.190572",
     "exception": false,
     "start_time": "2022-11-06T15:58:21.142598",
     "status": "completed"
    },
    "tags": []
   },
   "outputs": [
    {
     "name": "stdout",
     "output_type": "stream",
     "text": [
      "- Number of Pixels: 2809\n",
      "- Shape/Dimensions: (53, 53)\n",
      "- Number of Pixels: 3364\n",
      "- Shape/Dimensions: (58, 58)\n",
      "- Number of Pixels: 3481\n",
      "- Shape/Dimensions: (59, 59)\n",
      "- Number of Pixels: 3249\n",
      "- Shape/Dimensions: (57, 57)\n",
      "- Number of Pixels: 5184\n",
      "- Shape/Dimensions: (72, 72)\n",
      "- Number of Pixels: 3136\n",
      "- Shape/Dimensions: (56, 56)\n",
      "- Number of Pixels: 3025\n",
      "- Shape/Dimensions: (55, 55)\n",
      "- Number of Pixels: 1936\n",
      "- Shape/Dimensions: (44, 44)\n",
      "- Number of Pixels: 3969\n",
      "- Shape/Dimensions: (63, 63)\n",
      "- Number of Pixels: 3249\n",
      "- Shape/Dimensions: (57, 57)\n"
     ]
    }
   ],
   "source": [
    "## check the pixel size of some images\n",
    "\n",
    "for i, file in enumerate(train_data['filename']):\n",
    "    if i==10:\n",
    "        break\n",
    "    img = cv2.imread(os.path.join(train_path, file))\n",
    "    gray_img = cv2.cvtColor(img, cv2.COLOR_BGR2GRAY)\n",
    "    print(\"- Number of Pixels: \" + str(gray_img.size))\n",
    "    print(\"- Shape/Dimensions: \" + str(gray_img.shape))"
   ]
  },
  {
   "cell_type": "code",
   "execution_count": 11,
   "id": "8c1ac85a",
   "metadata": {
    "execution": {
     "iopub.execute_input": "2022-11-06T15:58:21.211846Z",
     "iopub.status.busy": "2022-11-06T15:58:21.210968Z",
     "iopub.status.idle": "2022-11-06T15:58:45.999127Z",
     "shell.execute_reply": "2022-11-06T15:58:45.997373Z"
    },
    "papermill": {
     "duration": 24.801994,
     "end_time": "2022-11-06T15:58:46.002498",
     "exception": false,
     "start_time": "2022-11-06T15:58:21.200504",
     "status": "completed"
    },
    "tags": []
   },
   "outputs": [
    {
     "name": "stdout",
     "output_type": "stream",
     "text": [
      "total train data\t: 9220\n",
      "shape of train data\t: (9220, 1024)\n"
     ]
    }
   ],
   "source": [
    "## change images to numpy array\n",
    "import cv2\n",
    "df = train_data.copy()\n",
    "print(f\"total train data\\t: {df.shape[0]}\")\n",
    "img_size = 32\n",
    "\n",
    "image = np.zeros((df.shape[0],img_size*img_size))\n",
    "for i, im in enumerate(df['filename']):\n",
    "    img = cv2.imread(os.path.join(train_path, im))\n",
    "    gray_img = cv2.cvtColor(img, cv2.COLOR_BGR2GRAY)\n",
    "    img_re = cv2.resize(gray_img, dsize=(img_size, img_size), interpolation=cv2.INTER_CUBIC)\n",
    "    image[i] = img_re.flatten()\n",
    "    \n",
    "print(f\"shape of train data\\t: {image.shape}\")"
   ]
  },
  {
   "cell_type": "code",
   "execution_count": 12,
   "id": "64936563",
   "metadata": {
    "execution": {
     "iopub.execute_input": "2022-11-06T15:58:46.024334Z",
     "iopub.status.busy": "2022-11-06T15:58:46.024031Z",
     "iopub.status.idle": "2022-11-06T15:58:51.603747Z",
     "shell.execute_reply": "2022-11-06T15:58:51.602642Z"
    },
    "papermill": {
     "duration": 5.59292,
     "end_time": "2022-11-06T15:58:51.606446",
     "exception": false,
     "start_time": "2022-11-06T15:58:46.013526",
     "status": "completed"
    },
    "tags": []
   },
   "outputs": [
    {
     "data": {
      "text/html": [
       "<div>\n",
       "<style scoped>\n",
       "    .dataframe tbody tr th:only-of-type {\n",
       "        vertical-align: middle;\n",
       "    }\n",
       "\n",
       "    .dataframe tbody tr th {\n",
       "        vertical-align: top;\n",
       "    }\n",
       "\n",
       "    .dataframe thead th {\n",
       "        text-align: right;\n",
       "    }\n",
       "</style>\n",
       "<table border=\"1\" class=\"dataframe\">\n",
       "  <thead>\n",
       "    <tr style=\"text-align: right;\">\n",
       "      <th></th>\n",
       "      <th>label</th>\n",
       "      <th>px1</th>\n",
       "      <th>px2</th>\n",
       "      <th>px3</th>\n",
       "      <th>px4</th>\n",
       "      <th>px5</th>\n",
       "      <th>px6</th>\n",
       "      <th>px7</th>\n",
       "      <th>px8</th>\n",
       "      <th>px9</th>\n",
       "      <th>...</th>\n",
       "      <th>px1015</th>\n",
       "      <th>px1016</th>\n",
       "      <th>px1017</th>\n",
       "      <th>px1018</th>\n",
       "      <th>px1019</th>\n",
       "      <th>px1020</th>\n",
       "      <th>px1021</th>\n",
       "      <th>px1022</th>\n",
       "      <th>px1023</th>\n",
       "      <th>px1024</th>\n",
       "    </tr>\n",
       "  </thead>\n",
       "  <tbody>\n",
       "    <tr>\n",
       "      <th>0</th>\n",
       "      <td>0</td>\n",
       "      <td>189.0</td>\n",
       "      <td>189.0</td>\n",
       "      <td>181.0</td>\n",
       "      <td>198.0</td>\n",
       "      <td>199.0</td>\n",
       "      <td>199.0</td>\n",
       "      <td>196.0</td>\n",
       "      <td>195.0</td>\n",
       "      <td>184.0</td>\n",
       "      <td>...</td>\n",
       "      <td>162.0</td>\n",
       "      <td>170.0</td>\n",
       "      <td>173.0</td>\n",
       "      <td>179.0</td>\n",
       "      <td>176.0</td>\n",
       "      <td>174.0</td>\n",
       "      <td>174.0</td>\n",
       "      <td>174.0</td>\n",
       "      <td>167.0</td>\n",
       "      <td>164.0</td>\n",
       "    </tr>\n",
       "    <tr>\n",
       "      <th>1</th>\n",
       "      <td>1</td>\n",
       "      <td>170.0</td>\n",
       "      <td>176.0</td>\n",
       "      <td>175.0</td>\n",
       "      <td>170.0</td>\n",
       "      <td>156.0</td>\n",
       "      <td>150.0</td>\n",
       "      <td>133.0</td>\n",
       "      <td>132.0</td>\n",
       "      <td>125.0</td>\n",
       "      <td>...</td>\n",
       "      <td>194.0</td>\n",
       "      <td>193.0</td>\n",
       "      <td>190.0</td>\n",
       "      <td>190.0</td>\n",
       "      <td>195.0</td>\n",
       "      <td>193.0</td>\n",
       "      <td>197.0</td>\n",
       "      <td>200.0</td>\n",
       "      <td>201.0</td>\n",
       "      <td>197.0</td>\n",
       "    </tr>\n",
       "    <tr>\n",
       "      <th>2</th>\n",
       "      <td>1</td>\n",
       "      <td>177.0</td>\n",
       "      <td>172.0</td>\n",
       "      <td>173.0</td>\n",
       "      <td>171.0</td>\n",
       "      <td>170.0</td>\n",
       "      <td>168.0</td>\n",
       "      <td>171.0</td>\n",
       "      <td>171.0</td>\n",
       "      <td>168.0</td>\n",
       "      <td>...</td>\n",
       "      <td>131.0</td>\n",
       "      <td>129.0</td>\n",
       "      <td>132.0</td>\n",
       "      <td>130.0</td>\n",
       "      <td>128.0</td>\n",
       "      <td>125.0</td>\n",
       "      <td>122.0</td>\n",
       "      <td>114.0</td>\n",
       "      <td>106.0</td>\n",
       "      <td>95.0</td>\n",
       "    </tr>\n",
       "    <tr>\n",
       "      <th>3</th>\n",
       "      <td>1</td>\n",
       "      <td>100.0</td>\n",
       "      <td>98.0</td>\n",
       "      <td>112.0</td>\n",
       "      <td>108.0</td>\n",
       "      <td>87.0</td>\n",
       "      <td>68.0</td>\n",
       "      <td>74.0</td>\n",
       "      <td>80.0</td>\n",
       "      <td>103.0</td>\n",
       "      <td>...</td>\n",
       "      <td>165.0</td>\n",
       "      <td>172.0</td>\n",
       "      <td>176.0</td>\n",
       "      <td>171.0</td>\n",
       "      <td>178.0</td>\n",
       "      <td>173.0</td>\n",
       "      <td>170.0</td>\n",
       "      <td>166.0</td>\n",
       "      <td>165.0</td>\n",
       "      <td>151.0</td>\n",
       "    </tr>\n",
       "    <tr>\n",
       "      <th>4</th>\n",
       "      <td>0</td>\n",
       "      <td>182.0</td>\n",
       "      <td>170.0</td>\n",
       "      <td>168.0</td>\n",
       "      <td>140.0</td>\n",
       "      <td>166.0</td>\n",
       "      <td>168.0</td>\n",
       "      <td>141.0</td>\n",
       "      <td>146.0</td>\n",
       "      <td>139.0</td>\n",
       "      <td>...</td>\n",
       "      <td>177.0</td>\n",
       "      <td>178.0</td>\n",
       "      <td>180.0</td>\n",
       "      <td>180.0</td>\n",
       "      <td>183.0</td>\n",
       "      <td>184.0</td>\n",
       "      <td>184.0</td>\n",
       "      <td>186.0</td>\n",
       "      <td>187.0</td>\n",
       "      <td>190.0</td>\n",
       "    </tr>\n",
       "    <tr>\n",
       "      <th>...</th>\n",
       "      <td>...</td>\n",
       "      <td>...</td>\n",
       "      <td>...</td>\n",
       "      <td>...</td>\n",
       "      <td>...</td>\n",
       "      <td>...</td>\n",
       "      <td>...</td>\n",
       "      <td>...</td>\n",
       "      <td>...</td>\n",
       "      <td>...</td>\n",
       "      <td>...</td>\n",
       "      <td>...</td>\n",
       "      <td>...</td>\n",
       "      <td>...</td>\n",
       "      <td>...</td>\n",
       "      <td>...</td>\n",
       "      <td>...</td>\n",
       "      <td>...</td>\n",
       "      <td>...</td>\n",
       "      <td>...</td>\n",
       "      <td>...</td>\n",
       "    </tr>\n",
       "    <tr>\n",
       "      <th>9215</th>\n",
       "      <td>0</td>\n",
       "      <td>197.0</td>\n",
       "      <td>196.0</td>\n",
       "      <td>195.0</td>\n",
       "      <td>195.0</td>\n",
       "      <td>194.0</td>\n",
       "      <td>193.0</td>\n",
       "      <td>194.0</td>\n",
       "      <td>194.0</td>\n",
       "      <td>196.0</td>\n",
       "      <td>...</td>\n",
       "      <td>178.0</td>\n",
       "      <td>178.0</td>\n",
       "      <td>179.0</td>\n",
       "      <td>178.0</td>\n",
       "      <td>176.0</td>\n",
       "      <td>181.0</td>\n",
       "      <td>181.0</td>\n",
       "      <td>179.0</td>\n",
       "      <td>183.0</td>\n",
       "      <td>184.0</td>\n",
       "    </tr>\n",
       "    <tr>\n",
       "      <th>9216</th>\n",
       "      <td>0</td>\n",
       "      <td>158.0</td>\n",
       "      <td>171.0</td>\n",
       "      <td>164.0</td>\n",
       "      <td>175.0</td>\n",
       "      <td>163.0</td>\n",
       "      <td>152.0</td>\n",
       "      <td>148.0</td>\n",
       "      <td>142.0</td>\n",
       "      <td>130.0</td>\n",
       "      <td>...</td>\n",
       "      <td>162.0</td>\n",
       "      <td>154.0</td>\n",
       "      <td>155.0</td>\n",
       "      <td>149.0</td>\n",
       "      <td>119.0</td>\n",
       "      <td>102.0</td>\n",
       "      <td>91.0</td>\n",
       "      <td>88.0</td>\n",
       "      <td>85.0</td>\n",
       "      <td>88.0</td>\n",
       "    </tr>\n",
       "    <tr>\n",
       "      <th>9217</th>\n",
       "      <td>0</td>\n",
       "      <td>192.0</td>\n",
       "      <td>174.0</td>\n",
       "      <td>171.0</td>\n",
       "      <td>148.0</td>\n",
       "      <td>140.0</td>\n",
       "      <td>130.0</td>\n",
       "      <td>115.0</td>\n",
       "      <td>120.0</td>\n",
       "      <td>113.0</td>\n",
       "      <td>...</td>\n",
       "      <td>156.0</td>\n",
       "      <td>155.0</td>\n",
       "      <td>156.0</td>\n",
       "      <td>155.0</td>\n",
       "      <td>152.0</td>\n",
       "      <td>153.0</td>\n",
       "      <td>156.0</td>\n",
       "      <td>151.0</td>\n",
       "      <td>156.0</td>\n",
       "      <td>154.0</td>\n",
       "    </tr>\n",
       "    <tr>\n",
       "      <th>9218</th>\n",
       "      <td>0</td>\n",
       "      <td>142.0</td>\n",
       "      <td>136.0</td>\n",
       "      <td>138.0</td>\n",
       "      <td>131.0</td>\n",
       "      <td>113.0</td>\n",
       "      <td>106.0</td>\n",
       "      <td>100.0</td>\n",
       "      <td>94.0</td>\n",
       "      <td>115.0</td>\n",
       "      <td>...</td>\n",
       "      <td>138.0</td>\n",
       "      <td>158.0</td>\n",
       "      <td>162.0</td>\n",
       "      <td>155.0</td>\n",
       "      <td>156.0</td>\n",
       "      <td>147.0</td>\n",
       "      <td>142.0</td>\n",
       "      <td>155.0</td>\n",
       "      <td>172.0</td>\n",
       "      <td>175.0</td>\n",
       "    </tr>\n",
       "    <tr>\n",
       "      <th>9219</th>\n",
       "      <td>1</td>\n",
       "      <td>226.0</td>\n",
       "      <td>227.0</td>\n",
       "      <td>222.0</td>\n",
       "      <td>226.0</td>\n",
       "      <td>224.0</td>\n",
       "      <td>221.0</td>\n",
       "      <td>221.0</td>\n",
       "      <td>220.0</td>\n",
       "      <td>223.0</td>\n",
       "      <td>...</td>\n",
       "      <td>217.0</td>\n",
       "      <td>215.0</td>\n",
       "      <td>221.0</td>\n",
       "      <td>220.0</td>\n",
       "      <td>215.0</td>\n",
       "      <td>217.0</td>\n",
       "      <td>223.0</td>\n",
       "      <td>222.0</td>\n",
       "      <td>222.0</td>\n",
       "      <td>221.0</td>\n",
       "    </tr>\n",
       "  </tbody>\n",
       "</table>\n",
       "<p>9220 rows × 1025 columns</p>\n",
       "</div>"
      ],
      "text/plain": [
       "      label    px1    px2    px3    px4    px5    px6    px7    px8    px9  \\\n",
       "0         0  189.0  189.0  181.0  198.0  199.0  199.0  196.0  195.0  184.0   \n",
       "1         1  170.0  176.0  175.0  170.0  156.0  150.0  133.0  132.0  125.0   \n",
       "2         1  177.0  172.0  173.0  171.0  170.0  168.0  171.0  171.0  168.0   \n",
       "3         1  100.0   98.0  112.0  108.0   87.0   68.0   74.0   80.0  103.0   \n",
       "4         0  182.0  170.0  168.0  140.0  166.0  168.0  141.0  146.0  139.0   \n",
       "...     ...    ...    ...    ...    ...    ...    ...    ...    ...    ...   \n",
       "9215      0  197.0  196.0  195.0  195.0  194.0  193.0  194.0  194.0  196.0   \n",
       "9216      0  158.0  171.0  164.0  175.0  163.0  152.0  148.0  142.0  130.0   \n",
       "9217      0  192.0  174.0  171.0  148.0  140.0  130.0  115.0  120.0  113.0   \n",
       "9218      0  142.0  136.0  138.0  131.0  113.0  106.0  100.0   94.0  115.0   \n",
       "9219      1  226.0  227.0  222.0  226.0  224.0  221.0  221.0  220.0  223.0   \n",
       "\n",
       "      ...  px1015  px1016  px1017  px1018  px1019  px1020  px1021  px1022  \\\n",
       "0     ...   162.0   170.0   173.0   179.0   176.0   174.0   174.0   174.0   \n",
       "1     ...   194.0   193.0   190.0   190.0   195.0   193.0   197.0   200.0   \n",
       "2     ...   131.0   129.0   132.0   130.0   128.0   125.0   122.0   114.0   \n",
       "3     ...   165.0   172.0   176.0   171.0   178.0   173.0   170.0   166.0   \n",
       "4     ...   177.0   178.0   180.0   180.0   183.0   184.0   184.0   186.0   \n",
       "...   ...     ...     ...     ...     ...     ...     ...     ...     ...   \n",
       "9215  ...   178.0   178.0   179.0   178.0   176.0   181.0   181.0   179.0   \n",
       "9216  ...   162.0   154.0   155.0   149.0   119.0   102.0    91.0    88.0   \n",
       "9217  ...   156.0   155.0   156.0   155.0   152.0   153.0   156.0   151.0   \n",
       "9218  ...   138.0   158.0   162.0   155.0   156.0   147.0   142.0   155.0   \n",
       "9219  ...   217.0   215.0   221.0   220.0   215.0   217.0   223.0   222.0   \n",
       "\n",
       "      px1023  px1024  \n",
       "0      167.0   164.0  \n",
       "1      201.0   197.0  \n",
       "2      106.0    95.0  \n",
       "3      165.0   151.0  \n",
       "4      187.0   190.0  \n",
       "...      ...     ...  \n",
       "9215   183.0   184.0  \n",
       "9216    85.0    88.0  \n",
       "9217   156.0   154.0  \n",
       "9218   172.0   175.0  \n",
       "9219   222.0   221.0  \n",
       "\n",
       "[9220 rows x 1025 columns]"
      ]
     },
     "execution_count": 12,
     "metadata": {},
     "output_type": "execute_result"
    }
   ],
   "source": [
    "# insert px image to DataFrame\n",
    "gbr = pd.DataFrame(image, columns=[f'px{c+1}' for c in range(image.shape[1])])\n",
    "train_data = pd.concat([df, gbr], axis = 1)\n",
    "train_data.drop('filename', axis=1, inplace=True)\n",
    "\n",
    "# encode label {0 = male; 1 = female}\n",
    "train_data['label'].replace(\n",
    "    ['male', 'female'], \n",
    "    [0, 1],\n",
    "    inplace=True\n",
    ")\n",
    "train_data.to_csv('train_data.csv', index=False)\n",
    "\n",
    "train_data"
   ]
  },
  {
   "cell_type": "code",
   "execution_count": 13,
   "id": "f9ca69f4",
   "metadata": {
    "execution": {
     "iopub.execute_input": "2022-11-06T15:58:51.629601Z",
     "iopub.status.busy": "2022-11-06T15:58:51.628587Z",
     "iopub.status.idle": "2022-11-06T15:58:53.014619Z",
     "shell.execute_reply": "2022-11-06T15:58:53.013575Z"
    },
    "papermill": {
     "duration": 1.399408,
     "end_time": "2022-11-06T15:58:53.016936",
     "exception": false,
     "start_time": "2022-11-06T15:58:51.617528",
     "status": "completed"
    },
    "tags": []
   },
   "outputs": [
    {
     "data": {
      "text/plain": [
       "Text(0.5, 1.0, '0')"
      ]
     },
     "execution_count": 13,
     "metadata": {},
     "output_type": "execute_result"
    },
    {
     "data": {
      "image/png": "[encoded data removed]",
      "text/plain": [
       "<Figure size 432x288 with 1 Axes>"
      ]
     },
     "metadata": {
      "needs_background": "light"
     },
     "output_type": "display_data"
    }
   ],
   "source": [
    "train_data = pd.read_csv('train_data.csv')\n",
    "plt.imshow(np.array(train_data.iloc[0][1:]).reshape(img_size, img_size))\n",
    "plt.title(train_data['label'][0])"
   ]
  },
  {
   "cell_type": "markdown",
   "id": "09bfef92",
   "metadata": {
    "papermill": {
     "duration": 0.01013,
     "end_time": "2022-11-06T15:58:53.037861",
     "exception": false,
     "start_time": "2022-11-06T15:58:53.027731",
     "status": "completed"
    },
    "tags": []
   },
   "source": [
    "# Data Preprocessing"
   ]
  },
  {
   "cell_type": "code",
   "execution_count": 14,
   "id": "938dfb3b",
   "metadata": {
    "execution": {
     "iopub.execute_input": "2022-11-06T15:58:53.061007Z",
     "iopub.status.busy": "2022-11-06T15:58:53.060091Z",
     "iopub.status.idle": "2022-11-06T15:58:53.983686Z",
     "shell.execute_reply": "2022-11-06T15:58:53.982750Z"
    },
    "papermill": {
     "duration": 0.93772,
     "end_time": "2022-11-06T15:58:53.986152",
     "exception": false,
     "start_time": "2022-11-06T15:58:53.048432",
     "status": "completed"
    },
    "tags": []
   },
   "outputs": [
    {
     "data": {
      "text/plain": [
       "((7376, 1025), (1844, 1025))"
      ]
     },
     "execution_count": 14,
     "metadata": {},
     "output_type": "execute_result"
    }
   ],
   "source": [
    "## spliting datasets\n",
    "from sklearn.model_selection import train_test_split\n",
    "\n",
    "train, val = train_test_split(train_data, test_size=0.2)\n",
    "\n",
    "train.shape, val.shape"
   ]
  },
  {
   "cell_type": "code",
   "execution_count": 15,
   "id": "ba7e0074",
   "metadata": {
    "execution": {
     "iopub.execute_input": "2022-11-06T15:58:54.009626Z",
     "iopub.status.busy": "2022-11-06T15:58:54.008060Z",
     "iopub.status.idle": "2022-11-06T15:58:54.044581Z",
     "shell.execute_reply": "2022-11-06T15:58:54.043595Z"
    },
    "papermill": {
     "duration": 0.049938,
     "end_time": "2022-11-06T15:58:54.046905",
     "exception": false,
     "start_time": "2022-11-06T15:58:53.996967",
     "status": "completed"
    },
    "tags": []
   },
   "outputs": [
    {
     "data": {
      "text/plain": [
       "((7376, 1024), (7376,), (1844, 1024), (1844,))"
      ]
     },
     "execution_count": 15,
     "metadata": {},
     "output_type": "execute_result"
    }
   ],
   "source": [
    "X_train = train.drop('label',axis=1).values\n",
    "y_train = train['label'].values\n",
    "\n",
    "X_val = val.drop('label',axis=1).values\n",
    "y_val = val['label'].values\n",
    "\n",
    "X_train.shape, y_train.shape, X_val.shape, y_val.shape"
   ]
  },
  {
   "cell_type": "code",
   "execution_count": 16,
   "id": "8588b349",
   "metadata": {
    "execution": {
     "iopub.execute_input": "2022-11-06T15:58:54.071586Z",
     "iopub.status.busy": "2022-11-06T15:58:54.069844Z",
     "iopub.status.idle": "2022-11-06T15:58:54.076592Z",
     "shell.execute_reply": "2022-11-06T15:58:54.075584Z"
    },
    "papermill": {
     "duration": 0.021413,
     "end_time": "2022-11-06T15:58:54.079466",
     "exception": false,
     "start_time": "2022-11-06T15:58:54.058053",
     "status": "completed"
    },
    "tags": []
   },
   "outputs": [
    {
     "name": "stdout",
     "output_type": "stream",
     "text": [
      "(7376, 32, 32, 1)\n",
      "(1844, 32, 32, 1)\n"
     ]
    }
   ],
   "source": [
    "X_train = X_train.reshape(-1, img_size,  img_size, 1)\n",
    "X_val = X_val.reshape(-1, img_size,  img_size, 1)\n",
    "\n",
    "print(X_train.shape)\n",
    "print(X_val.shape)"
   ]
  },
  {
   "cell_type": "code",
   "execution_count": 17,
   "id": "b6e1a033",
   "metadata": {
    "execution": {
     "iopub.execute_input": "2022-11-06T15:58:54.103584Z",
     "iopub.status.busy": "2022-11-06T15:58:54.102602Z",
     "iopub.status.idle": "2022-11-06T15:58:54.705610Z",
     "shell.execute_reply": "2022-11-06T15:58:54.704601Z"
    },
    "papermill": {
     "duration": 0.616781,
     "end_time": "2022-11-06T15:58:54.708040",
     "exception": false,
     "start_time": "2022-11-06T15:58:54.091259",
     "status": "completed"
    },
    "tags": []
   },
   "outputs": [
    {
     "data": {
      "image/png": "[encoded data removed]",
      "text/plain": [
       "<Figure size 432x288 with 6 Axes>"
      ]
     },
     "metadata": {
      "needs_background": "light"
     },
     "output_type": "display_data"
    }
   ],
   "source": [
    "col, bar = 3, 2\n",
    "\n",
    "fig,axe=plt.subplots(bar,col)\n",
    "idx = 0\n",
    "for i in range(bar):\n",
    "    for j in range(col):\n",
    "        axe[i,j].imshow(X_train[idx].reshape(img_size,img_size), cmap='gray')\n",
    "        idx+=1"
   ]
  },
  {
   "cell_type": "markdown",
   "id": "44189f29",
   "metadata": {
    "papermill": {
     "duration": 0.010139,
     "end_time": "2022-11-06T15:58:54.728970",
     "exception": false,
     "start_time": "2022-11-06T15:58:54.718831",
     "status": "completed"
    },
    "tags": []
   },
   "source": [
    "## Data Augmentation"
   ]
  },
  {
   "cell_type": "code",
   "execution_count": 18,
   "id": "a41bf6e6",
   "metadata": {
    "execution": {
     "iopub.execute_input": "2022-11-06T15:58:54.751393Z",
     "iopub.status.busy": "2022-11-06T15:58:54.751070Z",
     "iopub.status.idle": "2022-11-06T15:58:54.795395Z",
     "shell.execute_reply": "2022-11-06T15:58:54.794414Z"
    },
    "papermill": {
     "duration": 0.058395,
     "end_time": "2022-11-06T15:58:54.797782",
     "exception": false,
     "start_time": "2022-11-06T15:58:54.739387",
     "status": "completed"
    },
    "tags": []
   },
   "outputs": [
    {
     "data": {
      "text/plain": [
       "(-1.0, 1.0)"
      ]
     },
     "execution_count": 18,
     "metadata": {},
     "output_type": "execute_result"
    }
   ],
   "source": [
    "## Scaling images\n",
    "X_train = X_train.astype('float32')\n",
    "X_train = X_train/255*2-1\n",
    "\n",
    "X_val = X_val.astype('float32')\n",
    "X_val = X_val/255*2-1\n",
    "\n",
    "X_train.min(), X_train.max()"
   ]
  },
  {
   "cell_type": "code",
   "execution_count": 19,
   "id": "cb210141",
   "metadata": {
    "execution": {
     "iopub.execute_input": "2022-11-06T15:58:54.821665Z",
     "iopub.status.busy": "2022-11-06T15:58:54.820749Z",
     "iopub.status.idle": "2022-11-06T15:58:56.204220Z",
     "shell.execute_reply": "2022-11-06T15:58:56.201442Z"
    },
    "papermill": {
     "duration": 1.398513,
     "end_time": "2022-11-06T15:58:56.207395",
     "exception": false,
     "start_time": "2022-11-06T15:58:54.808882",
     "status": "completed"
    },
    "tags": []
   },
   "outputs": [
    {
     "name": "stderr",
     "output_type": "stream",
     "text": [
      "2022-11-06 15:58:55.734030: I tensorflow/stream_executor/cuda/cuda_gpu_executor.cc:937] successful NUMA node read from SysFS had negative value (-1), but there must be at least one NUMA node, so returning NUMA node zero\n",
      "2022-11-06 15:58:55.734967: I tensorflow/stream_executor/cuda/cuda_gpu_executor.cc:937] successful NUMA node read from SysFS had negative value (-1), but there must be at least one NUMA node, so returning NUMA node zero\n",
      "2022-11-06 15:58:55.735740: I tensorflow/stream_executor/cuda/cuda_gpu_executor.cc:937] successful NUMA node read from SysFS had negative value (-1), but there must be at least one NUMA node, so returning NUMA node zero\n",
      "2022-11-06 15:58:55.736461: I tensorflow/stream_executor/cuda/cuda_gpu_executor.cc:937] successful NUMA node read from SysFS had negative value (-1), but there must be at least one NUMA node, so returning NUMA node zero\n",
      "2022-11-06 15:58:55.737288: I tensorflow/stream_executor/cuda/cuda_gpu_executor.cc:937] successful NUMA node read from SysFS had negative value (-1), but there must be at least one NUMA node, so returning NUMA node zero\n",
      "2022-11-06 15:58:55.738072: I tensorflow/stream_executor/cuda/cuda_gpu_executor.cc:937] successful NUMA node read from SysFS had negative value (-1), but there must be at least one NUMA node, so returning NUMA node zero\n",
      "2022-11-06 15:58:55.739105: I tensorflow/stream_executor/cuda/cuda_gpu_executor.cc:937] successful NUMA node read from SysFS had negative value (-1), but there must be at least one NUMA node, so returning NUMA node zero\n",
      "2022-11-06 15:58:55.739876: I tensorflow/stream_executor/cuda/cuda_gpu_executor.cc:937] successful NUMA node read from SysFS had negative value (-1), but there must be at least one NUMA node, so returning NUMA node zero\n",
      "2022-11-06 15:58:55.740587: I tensorflow/stream_executor/cuda/cuda_gpu_executor.cc:937] successful NUMA node read from SysFS had negative value (-1), but there must be at least one NUMA node, so returning NUMA node zero\n",
      "2022-11-06 15:58:55.741355: I tensorflow/stream_executor/cuda/cuda_gpu_executor.cc:937] successful NUMA node read from SysFS had negative value (-1), but there must be at least one NUMA node, so returning NUMA node zero\n",
      "2022-11-06 15:58:55.742126: I tensorflow/stream_executor/cuda/cuda_gpu_executor.cc:937] successful NUMA node read from SysFS had negative value (-1), but there must be at least one NUMA node, so returning NUMA node zero\n",
      "2022-11-06 15:58:55.742880: I tensorflow/stream_executor/cuda/cuda_gpu_executor.cc:937] successful NUMA node read from SysFS had negative value (-1), but there must be at least one NUMA node, so returning NUMA node zero\n",
      "2022-11-06 15:58:55.743707: I tensorflow/stream_executor/cuda/cuda_gpu_executor.cc:937] successful NUMA node read from SysFS had negative value (-1), but there must be at least one NUMA node, so returning NUMA node zero\n",
      "2022-11-06 15:58:55.744489: I tensorflow/stream_executor/cuda/cuda_gpu_executor.cc:937] successful NUMA node read from SysFS had negative value (-1), but there must be at least one NUMA node, so returning NUMA node zero\n",
      "2022-11-06 15:58:55.745220: I tensorflow/stream_executor/cuda/cuda_gpu_executor.cc:937] successful NUMA node read from SysFS had negative value (-1), but there must be at least one NUMA node, so returning NUMA node zero\n",
      "2022-11-06 15:58:55.745879: I tensorflow/core/common_runtime/gpu/gpu_device.cc:1510] Created device /job:localhost/replica:0/task:0/device:GPU:0 with 13789 MB memory:  -> device: 0, name: Tesla T4, pci bus id: 0000:00:04.0, compute capability: 7.5\n",
      "2022-11-06 15:58:55.745971: I tensorflow/stream_executor/cuda/cuda_gpu_executor.cc:937] successful NUMA node read from SysFS had negative value (-1), but there must be at least one NUMA node, so returning NUMA node zero\n",
      "2022-11-06 15:58:55.746636: I tensorflow/core/common_runtime/gpu/gpu_device.cc:1510] Created device /job:localhost/replica:0/task:0/device:GPU:1 with 13789 MB memory:  -> device: 1, name: Tesla T4, pci bus id: 0000:00:05.0, compute capability: 7.5\n"
     ]
    }
   ],
   "source": [
    "## Heavier Augmentation\n",
    "INPUT_SHAPE = (img_size, img_size, 1)\n",
    "data_augmentation = tf.keras.Sequential([\n",
    "    tf.keras.layers.experimental.preprocessing.RandomFlip(\"horizontal_and_vertical\", input_shape=INPUT_SHAPE),\n",
    "    tf.keras.layers.experimental.preprocessing.RandomRotation((-0.2, 0.3))\n",
    "])"
   ]
  },
  {
   "cell_type": "code",
   "execution_count": 20,
   "id": "547f1134",
   "metadata": {
    "execution": {
     "iopub.execute_input": "2022-11-06T15:58:56.233481Z",
     "iopub.status.busy": "2022-11-06T15:58:56.233114Z",
     "iopub.status.idle": "2022-11-06T15:58:56.901731Z",
     "shell.execute_reply": "2022-11-06T15:58:56.900672Z"
    },
    "papermill": {
     "duration": 0.685071,
     "end_time": "2022-11-06T15:58:56.904289",
     "exception": false,
     "start_time": "2022-11-06T15:58:56.219218",
     "status": "completed"
    },
    "tags": []
   },
   "outputs": [
    {
     "name": "stdout",
     "output_type": "stream",
     "text": [
      "(32, 32, 1)\n",
      "(1, 32, 32, 1)\n"
     ]
    },
    {
     "data": {
      "image/png": "[encoded data removed]",
      "text/plain": [
       "<Figure size 720x720 with 9 Axes>"
      ]
     },
     "metadata": {
      "needs_background": "light"
     },
     "output_type": "display_data"
    }
   ],
   "source": [
    "## Check augmented image\n",
    "\n",
    "image = X_train[0]\n",
    "print(image.shape)\n",
    "image = tf.expand_dims(X_train[0], 0)\n",
    "print(image.shape)\n",
    "\n",
    "plt.figure(figsize = (10,10))\n",
    "for i in range(9):\n",
    "    augmented_image = data_augmentation(image)\n",
    "    ax = plt.subplot(3,3,i+1)\n",
    "    plt.imshow(augmented_image[0], cmap='gray')\n",
    "    plt.axis(\"off\")"
   ]
  },
  {
   "cell_type": "markdown",
   "id": "88d6a5bc",
   "metadata": {
    "papermill": {
     "duration": 0.011737,
     "end_time": "2022-11-06T15:58:56.928112",
     "exception": false,
     "start_time": "2022-11-06T15:58:56.916375",
     "status": "completed"
    },
    "tags": []
   },
   "source": [
    "# Training Model"
   ]
  },
  {
   "cell_type": "code",
   "execution_count": 21,
   "id": "4393f790",
   "metadata": {
    "execution": {
     "iopub.execute_input": "2022-11-06T15:58:56.953119Z",
     "iopub.status.busy": "2022-11-06T15:58:56.952800Z",
     "iopub.status.idle": "2022-11-06T15:58:57.119936Z",
     "shell.execute_reply": "2022-11-06T15:58:57.118806Z"
    },
    "papermill": {
     "duration": 0.182502,
     "end_time": "2022-11-06T15:58:57.122243",
     "exception": false,
     "start_time": "2022-11-06T15:58:56.939741",
     "status": "completed"
    },
    "tags": []
   },
   "outputs": [
    {
     "name": "stdout",
     "output_type": "stream",
     "text": [
      "Model: \"sequential_1\"\n",
      "_________________________________________________________________\n",
      "Layer (type)                 Output Shape              Param #   \n",
      "=================================================================\n",
      "sequential (Sequential)      (None, 32, 32, 1)         0         \n",
      "_________________________________________________________________\n",
      "conv2d (Conv2D)              (None, 30, 30, 16)        160       \n",
      "_________________________________________________________________\n",
      "max_pooling2d (MaxPooling2D) (None, 15, 15, 16)        0         \n",
      "_________________________________________________________________\n",
      "conv2d_1 (Conv2D)            (None, 13, 13, 32)        4640      \n",
      "_________________________________________________________________\n",
      "max_pooling2d_1 (MaxPooling2 (None, 6, 6, 32)          0         \n",
      "_________________________________________________________________\n",
      "flatten (Flatten)            (None, 1152)              0         \n",
      "_________________________________________________________________\n",
      "dense (Dense)                (None, 256)               295168    \n",
      "_________________________________________________________________\n",
      "dropout (Dropout)            (None, 256)               0         \n",
      "_________________________________________________________________\n",
      "dense_1 (Dense)              (None, 256)               65792     \n",
      "_________________________________________________________________\n",
      "dropout_1 (Dropout)          (None, 256)               0         \n",
      "_________________________________________________________________\n",
      "dense_2 (Dense)              (None, 2)                 514       \n",
      "=================================================================\n",
      "Total params: 366,274\n",
      "Trainable params: 366,274\n",
      "Non-trainable params: 0\n",
      "_________________________________________________________________\n"
     ]
    }
   ],
   "source": [
    "## Build Model Architecture\n",
    "\n",
    "# define sequential model\n",
    "model = tf.keras.models.Sequential()\n",
    "\n",
    "# define data augmentation\n",
    "model.add(data_augmentation)\n",
    "\n",
    "# define conv-pool layers - set 1\n",
    "model.add(tf.keras.layers.Conv2D(\n",
    "    filters=16, kernel_size=(3, 3), strides=(1, 1),\n",
    "    activation='relu', padding='valid'\n",
    "))\n",
    "model.add(tf.keras.layers.MaxPooling2D(pool_size=(2, 2)))\n",
    "\n",
    "# define conv-pool layers - set 2\n",
    "model.add(tf.keras.layers.Conv2D(\n",
    "    filters=32, kernel_size=(3, 3), strides=(1, 1),\n",
    "    activation='relu', padding='valid'\n",
    "))\n",
    "model.add(tf.keras.layers.MaxPooling2D(pool_size=(2, 2)))\n",
    "\n",
    "# add flatten layer\n",
    "model.add(tf.keras.layers.Flatten())\n",
    "\n",
    "# add dense layers with some dropout\n",
    "model.add(tf.keras.layers.Dense(256, activation='relu'))\n",
    "model.add(tf.keras.layers.Dropout(rate=0.3))\n",
    "model.add(tf.keras.layers.Dense(256, activation='relu'))\n",
    "model.add(tf.keras.layers.Dropout(rate=0.3))\n",
    "\n",
    "# add output layer\n",
    "model.add(tf.keras.layers.Dense(len(class_names), activation='softmax'))\n",
    "\n",
    "\n",
    "# view model layers\n",
    "model.summary()"
   ]
  },
  {
   "cell_type": "code",
   "execution_count": 22,
   "id": "5497515a",
   "metadata": {
    "execution": {
     "iopub.execute_input": "2022-11-06T15:58:57.147427Z",
     "iopub.status.busy": "2022-11-06T15:58:57.146540Z",
     "iopub.status.idle": "2022-11-06T15:58:57.153080Z",
     "shell.execute_reply": "2022-11-06T15:58:57.152128Z"
    },
    "papermill": {
     "duration": 0.020859,
     "end_time": "2022-11-06T15:58:57.155092",
     "exception": false,
     "start_time": "2022-11-06T15:58:57.134233",
     "status": "completed"
    },
    "tags": []
   },
   "outputs": [],
   "source": [
    "## setting model parameters\n",
    "\n",
    "EPOCHS = 30\n",
    "batch_size = 15\n",
    "opt = 'adam'\n",
    "loss = 'sparse_categorical_crossentropy'\n",
    "\n",
    "es_callback = tf.keras.callbacks.EarlyStopping(monitor='val_loss', patience=5,\n",
    "    restore_best_weights=True,\n",
    "    verbose=1)"
   ]
  },
  {
   "cell_type": "code",
   "execution_count": 23,
   "id": "d49a2ca1",
   "metadata": {
    "execution": {
     "iopub.execute_input": "2022-11-06T15:58:57.180386Z",
     "iopub.status.busy": "2022-11-06T15:58:57.178822Z",
     "iopub.status.idle": "2022-11-06T16:00:09.117475Z",
     "shell.execute_reply": "2022-11-06T16:00:09.116251Z"
    },
    "papermill": {
     "duration": 71.953222,
     "end_time": "2022-11-06T16:00:09.119890",
     "exception": false,
     "start_time": "2022-11-06T15:58:57.166668",
     "status": "completed"
    },
    "tags": []
   },
   "outputs": [
    {
     "name": "stderr",
     "output_type": "stream",
     "text": [
      "2022-11-06 15:58:57.303111: I tensorflow/compiler/mlir/mlir_graph_optimization_pass.cc:185] None of the MLIR Optimization Passes are enabled (registered 2)\n"
     ]
    },
    {
     "name": "stdout",
     "output_type": "stream",
     "text": [
      "Epoch 1/30\n"
     ]
    },
    {
     "name": "stderr",
     "output_type": "stream",
     "text": [
      "2022-11-06 15:58:59.468627: I tensorflow/stream_executor/cuda/cuda_dnn.cc:369] Loaded cuDNN version 8005\n"
     ]
    },
    {
     "name": "stdout",
     "output_type": "stream",
     "text": [
      "394/394 [==============================] - 12s 7ms/step - loss: 0.6554 - accuracy: 0.6107 - val_loss: 0.5561 - val_accuracy: 0.7310\n",
      "Epoch 2/30\n",
      "394/394 [==============================] - 2s 5ms/step - loss: 0.5817 - accuracy: 0.6964 - val_loss: 0.5211 - val_accuracy: 0.7642\n",
      "Epoch 3/30\n",
      "394/394 [==============================] - 3s 7ms/step - loss: 0.5280 - accuracy: 0.7402 - val_loss: 0.4665 - val_accuracy: 0.7873\n",
      "Epoch 4/30\n",
      "394/394 [==============================] - 2s 5ms/step - loss: 0.4994 - accuracy: 0.7593 - val_loss: 0.4825 - val_accuracy: 0.7636\n",
      "Epoch 5/30\n",
      "394/394 [==============================] - 2s 5ms/step - loss: 0.4750 - accuracy: 0.7761 - val_loss: 0.4399 - val_accuracy: 0.7988\n",
      "Epoch 6/30\n",
      "394/394 [==============================] - 2s 5ms/step - loss: 0.4630 - accuracy: 0.7866 - val_loss: 0.4950 - val_accuracy: 0.7561\n",
      "Epoch 7/30\n",
      "394/394 [==============================] - 2s 5ms/step - loss: 0.4392 - accuracy: 0.8020 - val_loss: 0.4241 - val_accuracy: 0.8089\n",
      "Epoch 8/30\n",
      "394/394 [==============================] - 2s 5ms/step - loss: 0.4331 - accuracy: 0.8049 - val_loss: 0.4180 - val_accuracy: 0.8178\n",
      "Epoch 9/30\n",
      "394/394 [==============================] - 2s 5ms/step - loss: 0.4125 - accuracy: 0.8149 - val_loss: 0.3860 - val_accuracy: 0.8313\n",
      "Epoch 10/30\n",
      "394/394 [==============================] - 2s 5ms/step - loss: 0.4048 - accuracy: 0.8264 - val_loss: 0.3926 - val_accuracy: 0.8218\n",
      "Epoch 11/30\n",
      "394/394 [==============================] - 2s 5ms/step - loss: 0.4033 - accuracy: 0.8224 - val_loss: 0.5185 - val_accuracy: 0.7486\n",
      "Epoch 12/30\n",
      "394/394 [==============================] - 2s 5ms/step - loss: 0.3852 - accuracy: 0.8310 - val_loss: 0.4121 - val_accuracy: 0.8056\n",
      "Epoch 13/30\n",
      "394/394 [==============================] - 2s 5ms/step - loss: 0.3811 - accuracy: 0.8322 - val_loss: 0.3877 - val_accuracy: 0.8306\n",
      "Epoch 14/30\n",
      "394/394 [==============================] - 2s 5ms/step - loss: 0.3794 - accuracy: 0.8342 - val_loss: 0.3766 - val_accuracy: 0.8272\n",
      "Epoch 15/30\n",
      "394/394 [==============================] - 2s 5ms/step - loss: 0.3589 - accuracy: 0.8437 - val_loss: 0.3891 - val_accuracy: 0.8354\n",
      "Epoch 16/30\n",
      "394/394 [==============================] - 2s 5ms/step - loss: 0.3583 - accuracy: 0.8468 - val_loss: 0.3792 - val_accuracy: 0.8381\n",
      "Epoch 17/30\n",
      "394/394 [==============================] - 2s 5ms/step - loss: 0.3491 - accuracy: 0.8463 - val_loss: 0.3390 - val_accuracy: 0.8570\n",
      "Epoch 18/30\n",
      "394/394 [==============================] - 2s 5ms/step - loss: 0.3521 - accuracy: 0.8510 - val_loss: 0.3318 - val_accuracy: 0.8591\n",
      "Epoch 19/30\n",
      "394/394 [==============================] - 3s 7ms/step - loss: 0.3367 - accuracy: 0.8580 - val_loss: 0.3270 - val_accuracy: 0.8550\n",
      "Epoch 20/30\n",
      "394/394 [==============================] - 2s 5ms/step - loss: 0.3340 - accuracy: 0.8554 - val_loss: 0.3374 - val_accuracy: 0.8543\n",
      "Epoch 21/30\n",
      "394/394 [==============================] - 2s 5ms/step - loss: 0.3287 - accuracy: 0.8585 - val_loss: 0.3474 - val_accuracy: 0.8503\n",
      "Epoch 22/30\n",
      "394/394 [==============================] - 2s 5ms/step - loss: 0.3281 - accuracy: 0.8631 - val_loss: 0.3078 - val_accuracy: 0.8679\n",
      "Epoch 23/30\n",
      "394/394 [==============================] - 2s 5ms/step - loss: 0.3183 - accuracy: 0.8659 - val_loss: 0.3076 - val_accuracy: 0.8665\n",
      "Epoch 24/30\n",
      "394/394 [==============================] - 2s 6ms/step - loss: 0.3302 - accuracy: 0.8576 - val_loss: 0.3401 - val_accuracy: 0.8476\n",
      "Epoch 25/30\n",
      "394/394 [==============================] - 2s 5ms/step - loss: 0.3135 - accuracy: 0.8729 - val_loss: 0.2836 - val_accuracy: 0.8848\n",
      "Epoch 26/30\n",
      "394/394 [==============================] - 2s 5ms/step - loss: 0.3143 - accuracy: 0.8671 - val_loss: 0.2938 - val_accuracy: 0.8828\n",
      "Epoch 27/30\n",
      "394/394 [==============================] - 2s 5ms/step - loss: 0.3131 - accuracy: 0.8680 - val_loss: 0.2952 - val_accuracy: 0.8787\n",
      "Epoch 28/30\n",
      "394/394 [==============================] - 2s 5ms/step - loss: 0.3105 - accuracy: 0.8697 - val_loss: 0.2801 - val_accuracy: 0.8909\n",
      "Epoch 29/30\n",
      "394/394 [==============================] - 2s 5ms/step - loss: 0.3052 - accuracy: 0.8758 - val_loss: 0.2845 - val_accuracy: 0.8801\n",
      "Epoch 30/30\n",
      "394/394 [==============================] - 2s 6ms/step - loss: 0.3006 - accuracy: 0.8756 - val_loss: 0.2709 - val_accuracy: 0.8909\n"
     ]
    }
   ],
   "source": [
    "# compile model\n",
    "model.compile(\n",
    "    optimizer = opt,\n",
    "    loss = loss,\n",
    "    metrics=['accuracy']\n",
    ")\n",
    "\n",
    "# fit/train model\n",
    "with tf.device('/gpu:0'):\n",
    "    history = model.fit(\n",
    "        X_train, y_train,\n",
    "        validation_data = (X_val, y_val),\n",
    "        batch_size = batch_size,\n",
    "        callbacks = [es_callback],\n",
    "        validation_split = 0.2, \n",
    "        epochs = EPOCHS,\n",
    "        verbose = 1\n",
    "    )"
   ]
  },
  {
   "cell_type": "code",
   "execution_count": 24,
   "id": "a7f5a614",
   "metadata": {
    "execution": {
     "iopub.execute_input": "2022-11-06T16:00:09.259167Z",
     "iopub.status.busy": "2022-11-06T16:00:09.258260Z",
     "iopub.status.idle": "2022-11-06T16:00:09.545811Z",
     "shell.execute_reply": "2022-11-06T16:00:09.544390Z"
    },
    "papermill": {
     "duration": 0.35931,
     "end_time": "2022-11-06T16:00:09.549096",
     "exception": false,
     "start_time": "2022-11-06T16:00:09.189786",
     "status": "completed"
    },
    "tags": []
   },
   "outputs": [
    {
     "name": "stdout",
     "output_type": "stream",
     "text": [
      "58/58 [==============================] - 0s 3ms/step - loss: 0.2839 - accuracy: 0.8839\n",
      "valid accuracy: 0.8839479684829712 \n",
      "valid loss: 0.28386664390563965\n"
     ]
    }
   ],
   "source": [
    "## model evaluate\n",
    "\n",
    "loss, acc = model.evaluate(X_val, y_val)\n",
    "print(f\"valid accuracy: {acc} \\nvalid loss: {loss}\")"
   ]
  },
  {
   "cell_type": "markdown",
   "id": "20fd56f7",
   "metadata": {
    "papermill": {
     "duration": 0.070905,
     "end_time": "2022-11-06T16:00:09.691738",
     "exception": false,
     "start_time": "2022-11-06T16:00:09.620833",
     "status": "completed"
    },
    "tags": []
   },
   "source": [
    "# Model Evaluation"
   ]
  },
  {
   "cell_type": "code",
   "execution_count": 25,
   "id": "f7ae40bc",
   "metadata": {
    "execution": {
     "iopub.execute_input": "2022-11-06T16:00:09.834555Z",
     "iopub.status.busy": "2022-11-06T16:00:09.834203Z",
     "iopub.status.idle": "2022-11-06T16:00:10.215203Z",
     "shell.execute_reply": "2022-11-06T16:00:10.214192Z"
    },
    "papermill": {
     "duration": 0.456372,
     "end_time": "2022-11-06T16:00:10.217633",
     "exception": false,
     "start_time": "2022-11-06T16:00:09.761261",
     "status": "completed"
    },
    "tags": []
   },
   "outputs": [
    {
     "data": {
      "image/png": "[encoded data removed]",
      "text/plain": [
       "<Figure size 1080x360 with 2 Axes>"
      ]
     },
     "metadata": {
      "needs_background": "light"
     },
     "output_type": "display_data"
    }
   ],
   "source": [
    "## Plot accuracy dan Loss\n",
    "\n",
    "loss = history.history['loss']\n",
    "val_loss = history.history['val_loss']\n",
    "\n",
    "acc = history.history['accuracy']\n",
    "val_acc = history.history['val_accuracy']\n",
    "\n",
    "plt.figure(figsize=(15, 5))\n",
    "\n",
    "plt.subplot(1, 2, 1)\n",
    "plt.title('Loss')\n",
    "plt.xlabel('Epoch')\n",
    "plt.ylabel('Loss')\n",
    "plt.plot(loss, label='Training set')\n",
    "plt.plot(val_loss, label='Validation set', linestyle='--')\n",
    "plt.legend()\n",
    "plt.grid(linestyle='--', linewidth=1, alpha=0.5)\n",
    "\n",
    "plt.subplot(1, 2, 2)\n",
    "plt.title('Accuracy')\n",
    "plt.xlabel('Epoch')\n",
    "plt.ylabel('Accuracy')\n",
    "plt.plot(acc, label='Training set')\n",
    "plt.plot(val_acc, label='Validation set', linestyle='--')\n",
    "plt.legend()\n",
    "plt.grid(linestyle='--', linewidth=1, alpha=0.5)\n",
    "\n",
    "plt.show()"
   ]
  },
  {
   "cell_type": "code",
   "execution_count": 26,
   "id": "60152b89",
   "metadata": {
    "execution": {
     "iopub.execute_input": "2022-11-06T16:00:10.362006Z",
     "iopub.status.busy": "2022-11-06T16:00:10.361566Z",
     "iopub.status.idle": "2022-11-06T16:00:10.839820Z",
     "shell.execute_reply": "2022-11-06T16:00:10.837873Z"
    },
    "papermill": {
     "duration": 0.553375,
     "end_time": "2022-11-06T16:00:10.842599",
     "exception": false,
     "start_time": "2022-11-06T16:00:10.289224",
     "status": "completed"
    },
    "tags": []
   },
   "outputs": [
    {
     "data": {
      "image/png": "[encoded data removed]",
      "text/plain": [
       "<Figure size 1296x432 with 2 Axes>"
      ]
     },
     "metadata": {
      "needs_background": "light"
     },
     "output_type": "display_data"
    },
    {
     "name": "stdout",
     "output_type": "stream",
     "text": [
      "\n",
      "=============== Classification Report ================\n",
      "              precision    recall  f1-score   support\n",
      "\n",
      "        male       0.87      0.92      0.89       975\n",
      "      female       0.90      0.85      0.87       869\n",
      "\n",
      "    accuracy                           0.88      1844\n",
      "   macro avg       0.89      0.88      0.88      1844\n",
      "weighted avg       0.88      0.88      0.88      1844\n",
      "\n"
     ]
    }
   ],
   "source": [
    "## Plot Confusion Matrix dan Classification Report\n",
    "\n",
    "from sklearn.metrics import ConfusionMatrixDisplay, confusion_matrix, classification_report\n",
    "\n",
    "Y_pred = model.predict(X_val)\n",
    "y_pred = np.argmax(Y_pred, axis=1)\n",
    "\n",
    "labels_list = class_names\n",
    "\n",
    "\n",
    "fig, ax = plt.subplots(figsize=(18, 6))\n",
    "cm = confusion_matrix(y_val, y_pred)\n",
    "disp = ConfusionMatrixDisplay(confusion_matrix=cm, display_labels=labels_list)\n",
    "disp.plot(cmap=plt.cm.Greens, ax=ax)\n",
    "plt.title(\"==== Confusion Matrix ===== \\n\")\n",
    "plt.show()\n",
    "\n",
    "\n",
    "print(\"\\n=============== Classification Report ================\")\n",
    "print(classification_report(y_val, y_pred, target_names=labels_list))"
   ]
  },
  {
   "cell_type": "markdown",
   "id": "21ccd76e",
   "metadata": {
    "papermill": {
     "duration": 0.077059,
     "end_time": "2022-11-06T16:00:10.994083",
     "exception": false,
     "start_time": "2022-11-06T16:00:10.917024",
     "status": "completed"
    },
    "tags": []
   },
   "source": [
    "# Predict Test Dataset"
   ]
  },
  {
   "cell_type": "code",
   "execution_count": 27,
   "id": "59cb50c9",
   "metadata": {
    "execution": {
     "iopub.execute_input": "2022-11-06T16:00:11.147627Z",
     "iopub.status.busy": "2022-11-06T16:00:11.146546Z",
     "iopub.status.idle": "2022-11-06T16:00:11.159111Z",
     "shell.execute_reply": "2022-11-06T16:00:11.158179Z"
    },
    "papermill": {
     "duration": 0.090945,
     "end_time": "2022-11-06T16:00:11.161400",
     "exception": false,
     "start_time": "2022-11-06T16:00:11.070455",
     "status": "completed"
    },
    "tags": []
   },
   "outputs": [
    {
     "data": {
      "text/html": [
       "<div>\n",
       "<style scoped>\n",
       "    .dataframe tbody tr th:only-of-type {\n",
       "        vertical-align: middle;\n",
       "    }\n",
       "\n",
       "    .dataframe tbody tr th {\n",
       "        vertical-align: top;\n",
       "    }\n",
       "\n",
       "    .dataframe thead th {\n",
       "        text-align: right;\n",
       "    }\n",
       "</style>\n",
       "<table border=\"1\" class=\"dataframe\">\n",
       "  <thead>\n",
       "    <tr style=\"text-align: right;\">\n",
       "      <th></th>\n",
       "      <th>filename</th>\n",
       "    </tr>\n",
       "  </thead>\n",
       "  <tbody>\n",
       "    <tr>\n",
       "      <th>0</th>\n",
       "      <td>Image_1.jpg</td>\n",
       "    </tr>\n",
       "    <tr>\n",
       "      <th>1</th>\n",
       "      <td>Image_2.jpg</td>\n",
       "    </tr>\n",
       "    <tr>\n",
       "      <th>2</th>\n",
       "      <td>Image_3.jpg</td>\n",
       "    </tr>\n",
       "    <tr>\n",
       "      <th>3</th>\n",
       "      <td>Image_4.jpg</td>\n",
       "    </tr>\n",
       "    <tr>\n",
       "      <th>4</th>\n",
       "      <td>Image_5.jpg</td>\n",
       "    </tr>\n",
       "    <tr>\n",
       "      <th>...</th>\n",
       "      <td>...</td>\n",
       "    </tr>\n",
       "    <tr>\n",
       "      <th>2300</th>\n",
       "      <td>Image_2301.jpg</td>\n",
       "    </tr>\n",
       "    <tr>\n",
       "      <th>2301</th>\n",
       "      <td>Image_2302.jpg</td>\n",
       "    </tr>\n",
       "    <tr>\n",
       "      <th>2302</th>\n",
       "      <td>Image_2303.jpg</td>\n",
       "    </tr>\n",
       "    <tr>\n",
       "      <th>2303</th>\n",
       "      <td>Image_2304.jpg</td>\n",
       "    </tr>\n",
       "    <tr>\n",
       "      <th>2304</th>\n",
       "      <td>Image_2305.jpg</td>\n",
       "    </tr>\n",
       "  </tbody>\n",
       "</table>\n",
       "<p>2305 rows × 1 columns</p>\n",
       "</div>"
      ],
      "text/plain": [
       "            filename\n",
       "0        Image_1.jpg\n",
       "1        Image_2.jpg\n",
       "2        Image_3.jpg\n",
       "3        Image_4.jpg\n",
       "4        Image_5.jpg\n",
       "...              ...\n",
       "2300  Image_2301.jpg\n",
       "2301  Image_2302.jpg\n",
       "2302  Image_2303.jpg\n",
       "2303  Image_2304.jpg\n",
       "2304  Image_2305.jpg\n",
       "\n",
       "[2305 rows x 1 columns]"
      ]
     },
     "execution_count": 27,
     "metadata": {},
     "output_type": "execute_result"
    }
   ],
   "source": [
    "test_data"
   ]
  },
  {
   "cell_type": "code",
   "execution_count": 28,
   "id": "b76a45f6",
   "metadata": {
    "execution": {
     "iopub.execute_input": "2022-11-06T16:00:11.307133Z",
     "iopub.status.busy": "2022-11-06T16:00:11.306751Z",
     "iopub.status.idle": "2022-11-06T16:00:17.135678Z",
     "shell.execute_reply": "2022-11-06T16:00:17.134453Z"
    },
    "papermill": {
     "duration": 5.907145,
     "end_time": "2022-11-06T16:00:17.138776",
     "exception": false,
     "start_time": "2022-11-06T16:00:11.231631",
     "status": "completed"
    },
    "tags": []
   },
   "outputs": [
    {
     "name": "stdout",
     "output_type": "stream",
     "text": [
      "total train data\t: 2305\n",
      "shape of train data\t: (2305, 1024)\n"
     ]
    }
   ],
   "source": [
    "## change images to numpy array\n",
    "test_df = test_data.copy()\n",
    "print(f\"total train data\\t: {test_df.shape[0]}\")\n",
    "img_size = 32\n",
    "\n",
    "image = np.zeros((test_df.shape[0],img_size*img_size))\n",
    "for i, im in enumerate(test_df['filename']):\n",
    "    img = cv2.imread(os.path.join(test_path, im))\n",
    "    gray_img = cv2.cvtColor(img, cv2.COLOR_BGR2GRAY)\n",
    "    img_re = cv2.resize(gray_img, dsize=(img_size, img_size), interpolation=cv2.INTER_CUBIC)\n",
    "    image[i] = img_re.flatten()\n",
    "    \n",
    "print(f\"shape of train data\\t: {image.shape}\")"
   ]
  },
  {
   "cell_type": "code",
   "execution_count": 29,
   "id": "e2a9c106",
   "metadata": {
    "execution": {
     "iopub.execute_input": "2022-11-06T16:00:17.295977Z",
     "iopub.status.busy": "2022-11-06T16:00:17.294902Z",
     "iopub.status.idle": "2022-11-06T16:00:17.303164Z",
     "shell.execute_reply": "2022-11-06T16:00:17.301957Z"
    },
    "papermill": {
     "duration": 0.085146,
     "end_time": "2022-11-06T16:00:17.305505",
     "exception": false,
     "start_time": "2022-11-06T16:00:17.220359",
     "status": "completed"
    },
    "tags": []
   },
   "outputs": [
    {
     "data": {
      "text/plain": [
       "(2305, 32, 32, 1)"
      ]
     },
     "execution_count": 29,
     "metadata": {},
     "output_type": "execute_result"
    }
   ],
   "source": [
    "img = image.reshape(-1, img_size,  img_size, 1)\n",
    "img.shape"
   ]
  },
  {
   "cell_type": "code",
   "execution_count": 30,
   "id": "d8bcc35a",
   "metadata": {
    "execution": {
     "iopub.execute_input": "2022-11-06T16:00:17.449082Z",
     "iopub.status.busy": "2022-11-06T16:00:17.448703Z",
     "iopub.status.idle": "2022-11-06T16:00:17.657720Z",
     "shell.execute_reply": "2022-11-06T16:00:17.656585Z"
    },
    "papermill": {
     "duration": 0.283904,
     "end_time": "2022-11-06T16:00:17.659959",
     "exception": false,
     "start_time": "2022-11-06T16:00:17.376055",
     "status": "completed"
    },
    "tags": []
   },
   "outputs": [
    {
     "data": {
      "text/plain": [
       "((2305,), (array([0, 1]), array([ 556, 1749])))"
      ]
     },
     "execution_count": 30,
     "metadata": {},
     "output_type": "execute_result"
    }
   ],
   "source": [
    "pred_prob = model.predict(img)\n",
    "pred_label = np.argmax(pred_prob, axis=1)\n",
    "\n",
    "pred_label.shape, np.unique(pred_label, return_counts=True)"
   ]
  },
  {
   "cell_type": "code",
   "execution_count": 31,
   "id": "3107546d",
   "metadata": {
    "execution": {
     "iopub.execute_input": "2022-11-06T16:00:17.805147Z",
     "iopub.status.busy": "2022-11-06T16:00:17.804100Z",
     "iopub.status.idle": "2022-11-06T16:00:23.201630Z",
     "shell.execute_reply": "2022-11-06T16:00:23.200604Z"
    },
    "papermill": {
     "duration": 5.472476,
     "end_time": "2022-11-06T16:00:23.203865",
     "exception": false,
     "start_time": "2022-11-06T16:00:17.731389",
     "status": "completed"
    },
    "tags": []
   },
   "outputs": [
    {
     "data": {
      "text/html": [
       "<div>\n",
       "<style scoped>\n",
       "    .dataframe tbody tr th:only-of-type {\n",
       "        vertical-align: middle;\n",
       "    }\n",
       "\n",
       "    .dataframe tbody tr th {\n",
       "        vertical-align: top;\n",
       "    }\n",
       "\n",
       "    .dataframe thead th {\n",
       "        text-align: right;\n",
       "    }\n",
       "</style>\n",
       "<table border=\"1\" class=\"dataframe\">\n",
       "  <thead>\n",
       "    <tr style=\"text-align: right;\">\n",
       "      <th></th>\n",
       "      <th>filename</th>\n",
       "      <th>label</th>\n",
       "      <th>proba</th>\n",
       "    </tr>\n",
       "  </thead>\n",
       "  <tbody>\n",
       "    <tr>\n",
       "      <th>0</th>\n",
       "      <td>Image_1.jpg</td>\n",
       "      <td>male</td>\n",
       "      <td>0.999864</td>\n",
       "    </tr>\n",
       "    <tr>\n",
       "      <th>1</th>\n",
       "      <td>Image_2.jpg</td>\n",
       "      <td>male</td>\n",
       "      <td>1.000000</td>\n",
       "    </tr>\n",
       "    <tr>\n",
       "      <th>2</th>\n",
       "      <td>Image_3.jpg</td>\n",
       "      <td>female</td>\n",
       "      <td>1.000000</td>\n",
       "    </tr>\n",
       "    <tr>\n",
       "      <th>3</th>\n",
       "      <td>Image_4.jpg</td>\n",
       "      <td>female</td>\n",
       "      <td>1.000000</td>\n",
       "    </tr>\n",
       "    <tr>\n",
       "      <th>4</th>\n",
       "      <td>Image_5.jpg</td>\n",
       "      <td>male</td>\n",
       "      <td>1.000000</td>\n",
       "    </tr>\n",
       "    <tr>\n",
       "      <th>...</th>\n",
       "      <td>...</td>\n",
       "      <td>...</td>\n",
       "      <td>...</td>\n",
       "    </tr>\n",
       "    <tr>\n",
       "      <th>2300</th>\n",
       "      <td>Image_2301.jpg</td>\n",
       "      <td>female</td>\n",
       "      <td>1.000000</td>\n",
       "    </tr>\n",
       "    <tr>\n",
       "      <th>2301</th>\n",
       "      <td>Image_2302.jpg</td>\n",
       "      <td>female</td>\n",
       "      <td>1.000000</td>\n",
       "    </tr>\n",
       "    <tr>\n",
       "      <th>2302</th>\n",
       "      <td>Image_2303.jpg</td>\n",
       "      <td>male</td>\n",
       "      <td>1.000000</td>\n",
       "    </tr>\n",
       "    <tr>\n",
       "      <th>2303</th>\n",
       "      <td>Image_2304.jpg</td>\n",
       "      <td>male</td>\n",
       "      <td>1.000000</td>\n",
       "    </tr>\n",
       "    <tr>\n",
       "      <th>2304</th>\n",
       "      <td>Image_2305.jpg</td>\n",
       "      <td>female</td>\n",
       "      <td>1.000000</td>\n",
       "    </tr>\n",
       "  </tbody>\n",
       "</table>\n",
       "<p>2305 rows × 3 columns</p>\n",
       "</div>"
      ],
      "text/plain": [
       "            filename   label     proba\n",
       "0        Image_1.jpg    male  0.999864\n",
       "1        Image_2.jpg    male  1.000000\n",
       "2        Image_3.jpg  female  1.000000\n",
       "3        Image_4.jpg  female  1.000000\n",
       "4        Image_5.jpg    male  1.000000\n",
       "...              ...     ...       ...\n",
       "2300  Image_2301.jpg  female  1.000000\n",
       "2301  Image_2302.jpg  female  1.000000\n",
       "2302  Image_2303.jpg    male  1.000000\n",
       "2303  Image_2304.jpg    male  1.000000\n",
       "2304  Image_2305.jpg  female  1.000000\n",
       "\n",
       "[2305 rows x 3 columns]"
      ]
     },
     "execution_count": 31,
     "metadata": {},
     "output_type": "execute_result"
    }
   ],
   "source": [
    "test_data['label'] = pred_label\n",
    "test_data['label'].replace(\n",
    "    [0, 1],\n",
    "    ['male', 'female'], \n",
    "    inplace=True\n",
    ")\n",
    "test_data['proba'] = np.max(pred_prob, axis=-1)\n",
    "train_data.to_csv('test_data.csv', index=False)\n",
    "pd.DataFrame(test_data['label']).to_csv('Submition.csv', index=False)\n",
    "\n",
    "test_data"
   ]
  },
  {
   "cell_type": "code",
   "execution_count": 32,
   "id": "cc1fce73",
   "metadata": {
    "execution": {
     "iopub.execute_input": "2022-11-06T16:00:23.350085Z",
     "iopub.status.busy": "2022-11-06T16:00:23.349724Z",
     "iopub.status.idle": "2022-11-06T16:00:23.853534Z",
     "shell.execute_reply": "2022-11-06T16:00:23.852588Z"
    },
    "papermill": {
     "duration": 0.575887,
     "end_time": "2022-11-06T16:00:23.855781",
     "exception": false,
     "start_time": "2022-11-06T16:00:23.279894",
     "status": "completed"
    },
    "tags": []
   },
   "outputs": [
    {
     "name": "stdout",
     "output_type": "stream",
     "text": [
      "(2305, 32, 32, 1)\n"
     ]
    },
    {
     "data": {
      "image/png": "[encoded data removed]",
      "text/plain": [
       "<Figure size 720x720 with 9 Axes>"
      ]
     },
     "metadata": {
      "needs_background": "light"
     },
     "output_type": "display_data"
    }
   ],
   "source": [
    "## Check image prediction\n",
    "\n",
    "image = img\n",
    "lb = test_data['label']\n",
    "prob = test_data['proba']\n",
    "\n",
    "print(image.shape)\n",
    "# image = tf.expand_dims(X_train[0], 0)\n",
    "# print(image.shape)\n",
    "\n",
    "plt.figure(figsize = (10,10))\n",
    "for i in range(9):\n",
    "#     augmented_image = data_augmentation(image)\n",
    "    ax = plt.subplot(3,3, i+1)\n",
    "    plt.imshow(image[i], cmap='gray')\n",
    "    plt.title(\n",
    "        label=f\"pred = {lb[i]}\\nscore = {prob[i]:.3f}\",\n",
    "        fontdict={'fontsize':12}\n",
    "    )\n",
    "    plt.axis(\"off\")"
   ]
  },
  {
   "cell_type": "markdown",
   "id": "230f0364",
   "metadata": {
    "papermill": {
     "duration": 0.071293,
     "end_time": "2022-11-06T16:00:24.012987",
     "exception": false,
     "start_time": "2022-11-06T16:00:23.941694",
     "status": "completed"
    },
    "tags": []
   },
   "source": []
  }
 ],
 "metadata": {
  "kernelspec": {
   "display_name": "Python 3",
   "language": "python",
   "name": "python3"
  },
  "language_info": {
   "codemirror_mode": {
    "name": "ipython",
    "version": 3
   },
   "file_extension": ".py",
   "mimetype": "text/x-python",
   "name": "python",
   "nbconvert_exporter": "python",
   "pygments_lexer": "ipython3",
   "version": "3.7.12"
  },
  "papermill": {
   "default_parameters": {},
   "duration": 150.57913,
   "end_time": "2022-11-06T16:00:27.317880",
   "environment_variables": {},
   "exception": null,
   "input_path": "__notebook__.ipynb",
   "output_path": "__notebook__.ipynb",
   "parameters": {},
   "start_time": "2022-11-06T15:57:56.738750",
   "version": "2.3.4"
  }
 },
 "nbformat": 4,
 "nbformat_minor": 5
}
